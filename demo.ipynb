{
 "cells": [
  {
   "cell_type": "code",
   "execution_count": 1,
   "id": "0bbe8a0b",
   "metadata": {},
   "outputs": [],
   "source": [
    "import os\n",
    "import yaml\n",
    "import warnings\n",
    "import pandas as pd\n",
    "\n",
    "from modules.scoring import ScoreSeed\n",
    "from modules.multigraph import NNGraph\n",
    "\n",
    "warnings.filterwarnings(\"ignore\")"
   ]
  },
  {
   "cell_type": "markdown",
   "id": "75ba21a3",
   "metadata": {},
   "source": [
    "### Load the config file"
   ]
  },
  {
   "cell_type": "code",
   "execution_count": 2,
   "id": "80ef51e9",
   "metadata": {},
   "outputs": [],
   "source": [
    "with open(\"config.yaml\") as f:\n",
    "    config = yaml.load(f)"
   ]
  },
  {
   "cell_type": "code",
   "execution_count": 3,
   "id": "ae3fbbd5",
   "metadata": {},
   "outputs": [],
   "source": [
    "out_path = \"data/adform/extn.csv\"\n",
    "\n",
    "nn = config[\"score\"][\"nn\"]\n",
    "eps = float(config[\"score\"][\"eps\"])\n",
    "cat_cols = config[\"dataset_params\"][\"cat_cols\"]\n",
    "list_cols = config[\"dataset_params\"][\"list_cols\"]\n",
    "data_root_dir = config[\"dataset_params\"][\"root_dir\"]\n",
    "data_file = config[\"dataset_params\"][\"output_file_name\"]\n",
    "prob_file = config[\"dataset_params\"][\"feat_count_file_name\"]"
   ]
  },
  {
   "cell_type": "markdown",
   "id": "7f3e73cc",
   "metadata": {},
   "source": [
    "### Load the clean data"
   ]
  },
  {
   "cell_type": "code",
   "execution_count": 4,
   "id": "408d5595",
   "metadata": {},
   "outputs": [],
   "source": [
    "df = pd.read_json(os.path.join(data_root_dir, data_file))"
   ]
  },
  {
   "cell_type": "markdown",
   "id": "2c14ca49",
   "metadata": {},
   "source": [
    "### Take random 50000 users who have clicked the ad as Seed Set"
   ]
  },
  {
   "cell_type": "code",
   "execution_count": 5,
   "id": "ab803da3",
   "metadata": {},
   "outputs": [],
   "source": [
    "df = df[df[\"click\"]==1]\n",
    "df = df.sample(n=50000)\n",
    "seed_df = df[[\"id\"]]\n",
    "seed_df.to_csv(os.path.join(data_root_dir, \"seed.csv\"))"
   ]
  },
  {
   "cell_type": "code",
   "execution_count": 6,
   "id": "b2a557d6",
   "metadata": {},
   "outputs": [],
   "source": [
    "seed_df = pd.read_csv(os.path.join(data_root_dir, \"seed.csv\"))"
   ]
  },
  {
   "cell_type": "code",
   "execution_count": 7,
   "id": "f7a977d8",
   "metadata": {},
   "outputs": [],
   "source": [
    "seed_ids = list(seed_df[\"id\"])"
   ]
  },
  {
   "cell_type": "markdown",
   "id": "cd61750a",
   "metadata": {},
   "source": [
    "### Load the feature counts data"
   ]
  },
  {
   "cell_type": "code",
   "execution_count": 8,
   "id": "a080df19",
   "metadata": {},
   "outputs": [],
   "source": [
    "prob_vals = pd.read_csv(os.path.join(data_root_dir, prob_file))\n",
    "data_path = os.path.join(data_root_dir, data_file)"
   ]
  },
  {
   "cell_type": "code",
   "execution_count": 9,
   "id": "38788f5a",
   "metadata": {},
   "outputs": [],
   "source": [
    "cat_graph = NNGraph(os.path.join(data_root_dir, \"cat_graph\"))\n",
    "list_graphs = []\n",
    "for i in list_cols:\n",
    "    g = NNGraph(os.path.join(data_root_dir, f\"{i}_graph\"))\n",
    "    list_graphs.append(g)"
   ]
  },
  {
   "cell_type": "markdown",
   "id": "d44c2ca9",
   "metadata": {},
   "source": [
    "### Create the scorer object"
   ]
  },
  {
   "cell_type": "code",
   "execution_count": 10,
   "id": "43eac31b",
   "metadata": {},
   "outputs": [],
   "source": [
    "scorer = ScoreSeed(seed_ids, data_path, prob_vals, cat_graph, list_graphs, cat_cols, \n",
    "                  list_cols, out_path, nn, eps)"
   ]
  },
  {
   "cell_type": "code",
   "execution_count": 11,
   "id": "0992e9b9",
   "metadata": {},
   "outputs": [
    {
     "name": "stdout",
     "output_type": "stream",
     "text": [
      "Reading data...\n",
      "Calculating Information Value...\n",
      "Calculating seed set distribution...\n",
      "Extracting Neighbors...\n",
      "Scoring Neighbors...\n",
      "Saving output file...\n"
     ]
    }
   ],
   "source": [
    "scorer.score()"
   ]
  },
  {
   "cell_type": "markdown",
   "id": "e525c806",
   "metadata": {},
   "source": [
    "### Load the data again"
   ]
  },
  {
   "cell_type": "code",
   "execution_count": 12,
   "id": "80674352",
   "metadata": {},
   "outputs": [],
   "source": [
    "df = pd.read_json(data_path)"
   ]
  },
  {
   "cell_type": "markdown",
   "id": "dc0bf63a",
   "metadata": {},
   "source": [
    "### Create extension sets"
   ]
  },
  {
   "cell_type": "code",
   "execution_count": 13,
   "id": "c673adf8",
   "metadata": {},
   "outputs": [],
   "source": [
    "extension_ids = scorer.extension\n",
    "extn_5x = df[df[\"id\"].isin(extension_ids[:50000])]\n",
    "extn_10x = df[df[\"id\"].isin(extension_ids[:100000])]\n",
    "extn_15x = df[df[\"id\"].isin(extension_ids[:150000])]\n",
    "extn_20x = df[df[\"id\"].isin(extension_ids[:200000])]\n",
    "extn_25x = df[df[\"id\"].isin(extension_ids[:250000])]"
   ]
  },
  {
   "cell_type": "markdown",
   "id": "ad6ed522",
   "metadata": {},
   "source": [
    "### Calculate Recall Rates for the different extension sets"
   ]
  },
  {
   "cell_type": "code",
   "execution_count": 14,
   "id": "d6cb9685",
   "metadata": {},
   "outputs": [],
   "source": [
    "recall_5x = extn_5x[\"click\"].mean()\n",
    "recall_10x = extn_10x[\"click\"].mean()\n",
    "recall_15x = extn_15x[\"click\"].mean()\n",
    "recall_20x = extn_20x[\"click\"].mean()\n",
    "recall_25x = extn_25x[\"click\"].mean()"
   ]
  },
  {
   "cell_type": "code",
   "execution_count": 15,
   "id": "cb7bc3c1",
   "metadata": {},
   "outputs": [
    {
     "name": "stdout",
     "output_type": "stream",
     "text": [
      "0.3273 0.29042 0.26364666666666664 0.24218 0.23364\n"
     ]
    }
   ],
   "source": [
    "print(recall_5x, recall_10x, recall_15x, recall_20x, recall_25x)"
   ]
  },
  {
   "cell_type": "code",
   "execution_count": null,
   "id": "1a864e04",
   "metadata": {},
   "outputs": [],
   "source": []
  }
 ],
 "metadata": {
  "kernelspec": {
   "display_name": "Python 3",
   "language": "python",
   "name": "python3"
  },
  "language_info": {
   "codemirror_mode": {
    "name": "ipython",
    "version": 3
   },
   "file_extension": ".py",
   "mimetype": "text/x-python",
   "name": "python",
   "nbconvert_exporter": "python",
   "pygments_lexer": "ipython3",
   "version": "3.6.13"
  }
 },
 "nbformat": 4,
 "nbformat_minor": 5
}
